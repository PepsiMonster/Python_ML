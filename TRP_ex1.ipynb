{
 "cells": [
  {
   "cell_type": "markdown",
   "metadata": {},
   "source": [
    "# Задача о прокате оборудования "
   ]
  },
  {
   "cell_type": "markdown",
   "metadata": {},
   "source": [
    "## Вводим параметры"
   ]
  },
  {
   "cell_type": "code",
   "execution_count": 1,
   "metadata": {},
   "outputs": [
    {
     "name": "stdout",
     "output_type": "stream",
     "text": [
      "Ввод параметров для задачи о прокате оборудования:\n",
      "\n",
      "Condition q1 < q2 is not satisfied.\n"
     ]
    }
   ],
   "source": [
    "print(\"Ввод параметров для задачи о прокате оборудования:\\n\")\n",
    "p1 = float(input(\"вероятность отстаться в рабочем состоянии при нормальной эксплуатации, p1 > p2: \"))\n",
    "p2 = float(input(\"вероятность отстаться в рабочем состоянии при жесткой эксплуатации: \"))\n",
    "q1 = float(input(\"вероятность не починить машину за единицу времени при нормальном ремонте: \"))\n",
    "q2 = float(input(\"вероятность не починить машину за единицу времени при быстром ремонте, q1 < q2: \"))\n",
    "\n",
    "c11 = float(input(\"доход в рабочем состоянии при нормальной эксплуатации, c11 < c12: \"))\n",
    "c12 = float(input(\"доход в рабочем состоянии при жесткой эксплуатации: \"))\n",
    "c21 = float(input(\"стоимость нормального ремонта, c21 < c22: \"))\n",
    "c22 = float(input(\"стоимость быстрого ремонта: \"))\n",
    "\n",
    "# Проверка соответствия введенных параметров условию задачи\n",
    "if not (p1 > p2):\n",
    "    print(\"Condition p1 > p2 is not satisfied.\")\n",
    "    \n",
    "if not (q1 < q2):\n",
    "    print(\"Condition q1 < q2 is not satisfied.\")\n",
    "    \n",
    "if not (c11 < c12):\n",
    "    print(\"Condition c11 < c12 is not satisfied.\")\n",
    "    \n",
    "if not (c21 < c22):\n",
    "    print(\"Condition c21 < c22 is not satisfied.\")\n",
    "    "
   ]
  },
  {
   "cell_type": "markdown",
   "metadata": {},
   "source": [
    "### Вычисляем стационарное распределение"
   ]
  },
  {
   "cell_type": "code",
   "execution_count": 2,
   "metadata": {},
   "outputs": [],
   "source": [
    "\n",
    "\n",
    "def stationary_distribution(p_i, q_j):\n",
    "    denominator = 2 - p_i - q_j\n",
    "    pi_1 = (1 - q_j) / denominator\n",
    "    pi_2 = (1 - p_i) / denominator\n",
    "    return pi_1, pi_2\n",
    "\n",
    "\n"
   ]
  },
  {
   "cell_type": "markdown",
   "metadata": {},
   "source": [
    "### Вычисляем средний доход"
   ]
  },
  {
   "cell_type": "code",
   "execution_count": 3,
   "metadata": {},
   "outputs": [],
   "source": [
    "def average_revenue(pi_1, pi_2, c_1i, c_2j):\n",
    "    return pi_1 * c_1i - pi_2 * c_2j"
   ]
  },
  {
   "cell_type": "code",
   "execution_count": 4,
   "metadata": {},
   "outputs": [
    {
     "name": "stdout",
     "output_type": "stream",
     "text": [
      "\n",
      "Средний доход для каждой стратегии:\n",
      "Стратегия f11: приносит средний доход = 72.0000\n",
      "Стратегия f12: приносит средний доход = 69.0909\n",
      "Стратегия f21: приносит средний доход = 134.5455\n",
      "Стратегия f22: приносит средний доход = 132.5000\n",
      "\n",
      "Оптимальная стратегия: f21 приносящая 134.5455\n"
     ]
    }
   ],
   "source": [
    "def main():\n",
    "\n",
    "    strategies = []\n",
    "    # Стратегия f11: нормальная эксплуатация, нормальный ремонт\n",
    "    pi1, pi2 = stationary_distribution(p1, q1)\n",
    "    avg_revenue = average_revenue(pi1, pi2, c11, c21)\n",
    "    strategies.append(('f11', avg_revenue))\n",
    "\n",
    "    # Стратегия f12: нормальная эксплуатация, быстрый ремонт\n",
    "    pi1, pi2 = stationary_distribution(p1, q2)\n",
    "    avg_revenue = average_revenue(pi1, pi2, c11, c22)\n",
    "    strategies.append(('f12', avg_revenue))\n",
    "\n",
    "    # Стратегия f21: жесткая эксплуатация, нормальный ремонт\n",
    "    pi1, pi2 = stationary_distribution(p2, q1)\n",
    "    avg_revenue = average_revenue(pi1, pi2, c12, c21)\n",
    "    strategies.append(('f21', avg_revenue))\n",
    "\n",
    "    # Стратегия f22: жесткая эксплуатация, быстрый ремонт\n",
    "    pi1, pi2 = stationary_distribution(p2, q2)\n",
    "    avg_revenue = average_revenue(pi1, pi2, c12, c22)\n",
    "    strategies.append(('f22', avg_revenue))\n",
    "\n",
    "    # Какая из них самая оптимальная\n",
    "    optimal_strategy = max(strategies, key=lambda x: x[1])\n",
    "\n",
    "    # Вывод\n",
    "    print(\"\\nСредний доход для каждой стратегии:\")\n",
    "    for strat, revenue in strategies:\n",
    "        print(f\"Стратегия {strat}: приносит средний доход = {revenue:.4f}\")\n",
    "\n",
    "    print(f\"\\nОптимальная стратегия: {optimal_strategy[0]} приносящая {optimal_strategy[1]:.4f}\")\n",
    "\n",
    "if __name__ == \"__main__\":\n",
    "    main()"
   ]
  }
 ],
 "metadata": {
  "kernelspec": {
   "display_name": "NewEnv",
   "language": "python",
   "name": "python3"
  },
  "language_info": {
   "codemirror_mode": {
    "name": "ipython",
    "version": 3
   },
   "file_extension": ".py",
   "mimetype": "text/x-python",
   "name": "python",
   "nbconvert_exporter": "python",
   "pygments_lexer": "ipython3",
   "version": "3.12.5"
  }
 },
 "nbformat": 4,
 "nbformat_minor": 2
}

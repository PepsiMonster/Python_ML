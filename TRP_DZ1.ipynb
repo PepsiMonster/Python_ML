{
 "cells": [
  {
   "cell_type": "code",
   "execution_count": 5,
   "metadata": {},
   "outputs": [
    {
     "name": "stdout",
     "output_type": "stream",
     "text": [
      "Ввод параметров для задачи о прокате оборудования:\n",
      "\n"
     ]
    }
   ],
   "source": [
    "print(\"Ввод параметров для задачи о прокате оборудования:\\n\")\n",
    "p1 = float(input(\"вероятность отстаться в рабочем состоянии при нормальной эксплуатации, p1 > p2: \"))\n",
    "p2 = float(input(\"вероятность отстаться в рабочем состоянии при жесткой эксплуатации: \"))\n",
    "q1 = float(input(\"вероятность не починить машину за единицу времени при нормальном ремонте: \"))\n",
    "q2 = float(input(\"вероятность не починить машину за единицу времени при быстром ремонте, q1 < q2: \"))\n",
    "\n",
    "c11 = float(input(\"доход в рабочем состоянии при нормальной эксплуатации, c11 < c12: \"))\n",
    "c12 = float(input(\"доход в рабочем состоянии при жесткой эксплуатации: \"))\n",
    "c21 = float(input(\"стоимость нормального ремонта, c21 < c22: \"))\n",
    "c22 = float(input(\"стоимость быстрого ремонта: \"))\n",
    "\n",
    "# Проверка соответствия введенных параметров условию задачи\n",
    "if not (p1 > p2):\n",
    "    print(\"Condition p1 > p2 is not satisfied.\")\n",
    "    \n",
    "if not (q1 < q2):\n",
    "    print(\"Condition q1 < q2 is not satisfied.\")\n",
    "    \n",
    "if not (c11 < c12):\n",
    "    print(\"Condition c11 < c12 is not satisfied.\")\n",
    "    \n",
    "if not (c21 < c22):\n",
    "    print(\"Condition c21 < c22 is not satisfied.\")"
   ]
  },
  {
   "cell_type": "code",
   "execution_count": 6,
   "metadata": {},
   "outputs": [],
   "source": [
    "def stationary_distribution(p_i, q_j):\n",
    "    denominator = 2 - p_i - q_j\n",
    "    pi_1 = (1 - q_j) / denominator\n",
    "    pi_2 = (1 - p_i) / denominator\n",
    "    return pi_1, pi_2"
   ]
  },
  {
   "cell_type": "code",
   "execution_count": 7,
   "metadata": {},
   "outputs": [],
   "source": [
    "def average_revenue(pi_1, pi_2, c_1i, c_2j):\n",
    "    return pi_1 * c_1i - pi_2 * c_2j"
   ]
  },
  {
   "cell_type": "code",
   "execution_count": 8,
   "metadata": {},
   "outputs": [
    {
     "name": "stdout",
     "output_type": "stream",
     "text": [
      "\n",
      "Средний доход для каждой стратегии:\n",
      "Стратегия f11: приносит средний доход = 33.3333\n",
      "Стратегия f12: приносит средний доход = 14.5455\n",
      "Стратегия f21: приносит средний доход = 37.1429\n",
      "Стратегия f22: приносит средний доход = 13.0769\n",
      "\n",
      "Оптимальная стратегия: f21 приносящая 37.1429\n"
     ]
    }
   ],
   "source": [
    "def main():\n",
    "\n",
    "    strategies = []\n",
    "    # Стратегия f11: нормальная эксплуатация, нормальный ремонт\n",
    "    pi1, pi2 = stationary_distribution(p1, q1)\n",
    "    avg_revenue = average_revenue(pi1, pi2, c11, c21)\n",
    "    strategies.append(('f11', avg_revenue))\n",
    "\n",
    "    # Стратегия f12: нормальная эксплуатация, быстрый ремонт\n",
    "    pi1, pi2 = stationary_distribution(p1, q2)\n",
    "    avg_revenue = average_revenue(pi1, pi2, c11, c22)\n",
    "    strategies.append(('f12', avg_revenue))\n",
    "\n",
    "    # Стратегия f21: жесткая эксплуатация, нормальный ремонт\n",
    "    pi1, pi2 = stationary_distribution(p2, q1)\n",
    "    avg_revenue = average_revenue(pi1, pi2, c12, c21)\n",
    "    strategies.append(('f21', avg_revenue))\n",
    "\n",
    "    # Стратегия f22: жесткая эксплуатация, быстрый ремонт\n",
    "    pi1, pi2 = stationary_distribution(p2, q2)\n",
    "    avg_revenue = average_revenue(pi1, pi2, c12, c22)\n",
    "    strategies.append(('f22', avg_revenue))\n",
    "\n",
    "    # Какая из них самая оптимальная\n",
    "    optimal_strategy = max(strategies, key=lambda x: x[1])\n",
    "\n",
    "    # Вывод\n",
    "    print(\"\\nСредний доход для каждой стратегии:\")\n",
    "    for strat, revenue in strategies:\n",
    "        print(f\"Стратегия {strat}: приносит средний доход = {revenue:.4f}\")\n",
    "\n",
    "    print(f\"\\nОптимальная стратегия: {optimal_strategy[0]} приносящая {optimal_strategy[1]:.4f}\")\n",
    "\n",
    "if __name__ == \"__main__\":\n",
    "    main()"
   ]
  },
  {
   "cell_type": "code",
   "execution_count": 9,
   "metadata": {},
   "outputs": [
    {
     "name": "stdout",
     "output_type": "stream",
     "text": [
      "Введите параметры задачи о прокате оборудования в непрерывном времени:\n",
      "\n"
     ]
    }
   ],
   "source": [
    "# Ввод параметров\n",
    "print(\"Введите параметры задачи о прокате оборудования в непрерывном времени:\\n\")\n",
    "lambda_1 = float(input(\"Введите λ1 (интенсивность отказов при нормальной эксплуатации, λ1 < λ2): \"))\n",
    "lambda_2 = float(input(\"Введите λ2 (интенсивность отказов при жесткой эксплуатации): \"))\n",
    "mu_1 = float(input(\"Введите μ1 (интенсивность восстановления при обычном ремонте): \"))\n",
    "mu_2 = float(input(\"Введите μ2 (интенсивность восстановления при ускоренном ремонте, μ1 < μ2): \"))\n",
    "\n",
    "c11 = float(input(\"Введите c11 (доход при нормальной эксплуатации, c11 < c12): \"))\n",
    "c12 = float(input(\"Введите c12 (доход при жесткой эксплуатации): \"))\n",
    "c21 = float(input(\"Введите c21 (издержки при обычном ремонте, c21 < c22): \"))\n",
    "c22 = float(input(\"Введите c22 (издержки при ускоренном ремонте): \"))\n",
    "\n",
    "if not (lambda_1 < lambda_2):\n",
    "    print(\"Условие λ1 < λ2 не выполнено.\")\n",
    "if not (mu_1 < mu_2):\n",
    "    print(\"Условие μ1 < μ2 не выполнено.\")  \n",
    "if not (c11 < c12):\n",
    "    print(\"Условие c11 < c12 не выполнено.\")   \n",
    "if not (c21 < c22):\n",
    "    print(\"Условие c21 < c22 не выполнено.\")"
   ]
  },
  {
   "cell_type": "code",
   "execution_count": 10,
   "metadata": {},
   "outputs": [],
   "source": [
    "def compute_stationary_distribution(lambda_i, mu_j):\n",
    "    pi_1 = mu_j / (lambda_i + mu_j)\n",
    "    pi_2 = lambda_i / (lambda_i + mu_j)\n",
    "    return pi_1, pi_2"
   ]
  },
  {
   "cell_type": "code",
   "execution_count": 11,
   "metadata": {},
   "outputs": [],
   "source": [
    "def compute_average_reward(pi_1, pi_2, c_1i, c_2j):\n",
    "    return pi_1 * c_1i - pi_2 * c_2j"
   ]
  },
  {
   "cell_type": "code",
   "execution_count": 12,
   "metadata": {},
   "outputs": [
    {
     "name": "stdout",
     "output_type": "stream",
     "text": [
      "\n",
      "Средние доходы для каждой стратегии:\n",
      "Стратегия f11: Средний доход = 33.33\n",
      "Стратегия f12: Средний доход = 53.00\n",
      "Стратегия f21: Средний доход = 0.00\n",
      "Стратегия f22: Средний доход = 27.86\n",
      "\n",
      "Оптимальная стратегия: f12 с средним доходом = 53.00\n"
     ]
    }
   ],
   "source": [
    "def main():\n",
    "    strategies = []\n",
    "    # Стратегия f11: нормальная эксплуатация, обычный ремонт\n",
    "    pi1, pi2 = compute_stationary_distribution(lambda_1, mu_1)\n",
    "    avg_reward = compute_average_reward(pi1, pi2, c11, c21)\n",
    "    strategies.append(('f11', avg_reward))\n",
    "\n",
    "    # Стратегия f12: нормальная эксплуатация, ускоренный ремонт\n",
    "    pi1, pi2 = compute_stationary_distribution(lambda_1, mu_2)\n",
    "    avg_reward = compute_average_reward(pi1, pi2, c11, c22)\n",
    "    strategies.append(('f12', avg_reward))\n",
    "\n",
    "    # Стратегия f21: жесткая эксплуатация, обычный ремонт\n",
    "    pi1, pi2 = compute_stationary_distribution(lambda_2, mu_1)\n",
    "    avg_reward = compute_average_reward(pi1, pi2, c12, c21)\n",
    "    strategies.append(('f21', avg_reward))\n",
    "\n",
    "    # Стратегия f22: жесткая эксплуатация, ускоренный ремонт\n",
    "    pi1, pi2 = compute_stationary_distribution(lambda_2, mu_2)\n",
    "    avg_reward = compute_average_reward(pi1, pi2, c12, c22)\n",
    "    strategies.append(('f22', avg_reward))\n",
    "\n",
    "    # Определение оптимальной стратегии\n",
    "    optimal_strategy = max(strategies, key=lambda x: x[1])\n",
    "\n",
    "    # Вывод результатов\n",
    "    print(\"\\nСредние доходы для каждой стратегии:\")\n",
    "    for strat, reward in strategies:\n",
    "        print(f\"Стратегия {strat}: Средний доход = {reward:.2f}\")\n",
    "\n",
    "    print(f\"\\nОптимальная стратегия: {optimal_strategy[0]} с средним доходом = {optimal_strategy[1]:.2f}\")\n",
    "\n",
    "if __name__ == \"__main__\":\n",
    "    main()\n"
   ]
  }
 ],
 "metadata": {
  "kernelspec": {
   "display_name": "NewEnv",
   "language": "python",
   "name": "python3"
  },
  "language_info": {
   "codemirror_mode": {
    "name": "ipython",
    "version": 3
   },
   "file_extension": ".py",
   "mimetype": "text/x-python",
   "name": "python",
   "nbconvert_exporter": "python",
   "pygments_lexer": "ipython3",
   "version": "3.12.5"
  }
 },
 "nbformat": 4,
 "nbformat_minor": 2
}

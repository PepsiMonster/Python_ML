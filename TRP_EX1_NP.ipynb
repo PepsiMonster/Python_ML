{
 "cells": [
  {
   "cell_type": "markdown",
   "metadata": {},
   "source": [
    "# Решение задачи о прокате оборудования в непрерывном времени"
   ]
  },
  {
   "cell_type": "code",
   "execution_count": 1,
   "metadata": {},
   "outputs": [
    {
     "name": "stdout",
     "output_type": "stream",
     "text": [
      "Введите параметры задачи о прокате оборудования в непрерывном времени:\n",
      "\n"
     ]
    }
   ],
   "source": [
    "# Ввод параметров\n",
    "print(\"Введите параметры задачи о прокате оборудования в непрерывном времени:\\n\")\n",
    "lambda_1 = float(input(\"Введите λ1 (интенсивность отказов при нормальной эксплуатации, λ1 < λ2): \"))\n",
    "lambda_2 = float(input(\"Введите λ2 (интенсивность отказов при жесткой эксплуатации): \"))\n",
    "mu_1 = float(input(\"Введите μ1 (интенсивность восстановления при обычном ремонте): \"))\n",
    "mu_2 = float(input(\"Введите μ2 (интенсивность восстановления при ускоренном ремонте, μ1 < μ2): \"))\n",
    "\n",
    "c11 = float(input(\"Введите c11 (доход при нормальной эксплуатации, c11 < c12): \"))\n",
    "c12 = float(input(\"Введите c12 (доход при жесткой эксплуатации): \"))\n",
    "c21 = float(input(\"Введите c21 (издержки при обычном ремонте, c21 < c22): \"))\n",
    "c22 = float(input(\"Введите c22 (издержки при ускоренном ремонте): \"))\n",
    "\n",
    "if not (lambda_1 < lambda_2):\n",
    "    print(\"Условие λ1 < λ2 не выполнено.\")\n",
    "if not (mu_1 < mu_2):\n",
    "    print(\"Условие μ1 < μ2 не выполнено.\")  \n",
    "if not (c11 < c12):\n",
    "    print(\"Условие c11 < c12 не выполнено.\")   \n",
    "if not (c21 < c22):\n",
    "    print(\"Условие c21 < c22 не выполнено.\")"
   ]
  },
  {
   "cell_type": "code",
   "execution_count": 2,
   "metadata": {},
   "outputs": [],
   "source": [
    "def compute_stationary_distribution(lambda_i, mu_j):\n",
    "    pi_1 = mu_j / (lambda_i + mu_j)\n",
    "    pi_2 = lambda_i / (lambda_i + mu_j)\n",
    "    return pi_1, pi_2"
   ]
  },
  {
   "cell_type": "code",
   "execution_count": 3,
   "metadata": {},
   "outputs": [],
   "source": [
    "def compute_average_reward(pi_1, pi_2, c_1i, c_2j):\n",
    "    return pi_1 * c_1i - pi_2 * c_2j"
   ]
  },
  {
   "cell_type": "code",
   "execution_count": 4,
   "metadata": {},
   "outputs": [
    {
     "name": "stdout",
     "output_type": "stream",
     "text": [
      "\n",
      "Средние доходы для каждой стратегии:\n",
      "Стратегия f11: Средний доход = 10.00\n",
      "Стратегия f12: Средний доход = 25.00\n",
      "Стратегия f21: Средний доход = 7.14\n",
      "Стратегия f22: Средний доход = 25.00\n",
      "\n",
      "Оптимальная стратегия: f12 с средним доходом = 25.00\n"
     ]
    }
   ],
   "source": [
    "def main():\n",
    "    strategies = []\n",
    "    # Стратегия f11: нормальная эксплуатация, обычный ремонт\n",
    "    pi1, pi2 = compute_stationary_distribution(lambda_1, mu_1)\n",
    "    avg_reward = compute_average_reward(pi1, pi2, c11, c21)\n",
    "    strategies.append(('f11', avg_reward))\n",
    "\n",
    "    # Стратегия f12: нормальная эксплуатация, ускоренный ремонт\n",
    "    pi1, pi2 = compute_stationary_distribution(lambda_1, mu_2)\n",
    "    avg_reward = compute_average_reward(pi1, pi2, c11, c22)\n",
    "    strategies.append(('f12', avg_reward))\n",
    "\n",
    "    # Стратегия f21: жесткая эксплуатация, обычный ремонт\n",
    "    pi1, pi2 = compute_stationary_distribution(lambda_2, mu_1)\n",
    "    avg_reward = compute_average_reward(pi1, pi2, c12, c21)\n",
    "    strategies.append(('f21', avg_reward))\n",
    "\n",
    "    # Стратегия f22: жесткая эксплуатация, ускоренный ремонт\n",
    "    pi1, pi2 = compute_stationary_distribution(lambda_2, mu_2)\n",
    "    avg_reward = compute_average_reward(pi1, pi2, c12, c22)\n",
    "    strategies.append(('f22', avg_reward))\n",
    "\n",
    "    # Определение оптимальной стратегии\n",
    "    optimal_strategy = max(strategies, key=lambda x: x[1])\n",
    "\n",
    "    # Вывод результатов\n",
    "    print(\"\\nСредние доходы для каждой стратегии:\")\n",
    "    for strat, reward in strategies:\n",
    "        print(f\"Стратегия {strat}: Средний доход = {reward:.2f}\")\n",
    "\n",
    "    print(f\"\\nОптимальная стратегия: {optimal_strategy[0]} с средним доходом = {optimal_strategy[1]:.2f}\")\n",
    "\n",
    "if __name__ == \"__main__\":\n",
    "    main()\n"
   ]
  }
 ],
 "metadata": {
  "kernelspec": {
   "display_name": "NewEnv",
   "language": "python",
   "name": "python3"
  },
  "language_info": {
   "codemirror_mode": {
    "name": "ipython",
    "version": 3
   },
   "file_extension": ".py",
   "mimetype": "text/x-python",
   "name": "python",
   "nbconvert_exporter": "python",
   "pygments_lexer": "ipython3",
   "version": "3.12.5"
  }
 },
 "nbformat": 4,
 "nbformat_minor": 2
}
